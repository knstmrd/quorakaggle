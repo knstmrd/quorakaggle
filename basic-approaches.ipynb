{
 "cells": [
  {
   "cell_type": "code",
   "execution_count": 1,
   "metadata": {
    "_cell_guid": "b1076dfc-b9ad-4769-8c92-a6c4dae69d19",
    "_kg_hide-output": true,
    "_uuid": "8f2839f25d086af736a60e9eeb907d3b93b6e0e5"
   },
   "outputs": [
    {
     "name": "stdout",
     "output_type": "stream",
     "text": [
      "['sample_submission.csv', 'train.csv', 'test.csv', 'embeddings']\n"
     ]
    },
    {
     "name": "stderr",
     "output_type": "stream",
     "text": [
      "Using TensorFlow backend.\n"
     ]
    }
   ],
   "source": [
    "import numpy as np # linear algebra\n",
    "import pandas as pd # data processing, CSV file I/O (e.g. pd.read_csv)\n",
    "\n",
    "import os\n",
    "import time\n",
    "import sys\n",
    "print(os.listdir(\"../input\"))\n",
    "\n",
    "from keras.preprocessing.text import Tokenizer\n",
    "from keras.preprocessing.sequence import pad_sequences\n",
    "from keras.layers import Reshape, Flatten, Concatenate, SpatialDropout1D\n",
    "from keras.layers import BatchNormalization\n",
    "from keras.layers import Dense, Input, CuDNNLSTM, Embedding, Dropout, Activation\n",
    "from keras.layers import CuDNNGRU, Conv1D, MaxPool1D, AvgPool1D\n",
    "from keras.layers import Bidirectional, GlobalMaxPool1D, GlobalMaxPooling1D\n",
    "from keras.layers import GlobalAveragePooling1D\n",
    "from keras.layers import concatenate\n",
    "from keras.optimizers import Adam\n",
    "from keras.models import Model, Sequential\n",
    "from keras import backend as K\n",
    "from keras.layers import Lambda\n",
    "from keras.engine.topology import Layer\n",
    "from keras import initializers, regularizers, constraints, optimizers, layers\n",
    "from keras.callbacks import ModelCheckpoint, ReduceLROnPlateau, Callback\n",
    "import tensorflow as tf\n",
    "\n",
    "from sklearn import metrics\n",
    "from sklearn.model_selection import train_test_split\n",
    "\n",
    "import re\n",
    "import gc"
   ]
  },
  {
   "cell_type": "markdown",
   "metadata": {
    "_cell_guid": "79c7e3d0-c299-4dcb-8224-4455121ee9b0",
    "_uuid": "d629ff2d2480ee46fbb7e2d37f6b5fab8052498a",
    "collapsed": true
   },
   "source": [
    "Some links:\n",
    "1. Cleaning up the data – [How to: Preprocessing when using embeddings](https://www.kaggle.com/christofhenkel/how-to-preprocessing-when-using-embeddings)\n",
    "2. More data clean-up – [Improve your Score with Text Preprocessing -- V2](https://www.kaggle.com/theoviel/improve-your-score-with-text-preprocessing-v2)\n",
    "2. Using different embeddings – [A look at different embeddings.!](https://www.kaggle.com/sudalairajkumar/a-look-at-different-embeddings)\n",
    "3. Simple LSTM with embedding – [LSTM is all you need! well, maybe embeddings also.](https://www.kaggle.com/mihaskalic/lstm-is-all-you-need-well-maybe-embeddings-also)\n",
    "4. [Cyclic LRs, computing F-1 threshold on each epoch, skip connections ](https://www.kaggle.com/shujian/single-rnn-with-4-folds-clr)\n",
    "5. [InceptionCNN with flip](https://www.kaggle.com/christofhenkel/inceptioncnn-with-flip)\n",
    "\n",
    "Some further ideas:\n",
    "1. Mixing embeddings, Capsule layer? – [GRU capsule](https://www.kaggle.com/gmhost/gru-capsule)\n",
    "2. CNNs and Attention – [Different embeddings with Attention! [Fork][Fork]](https://www.kaggle.com/shujian/different-embeddings-with-attention-fork-fork)\n",
    "3. [Ideas for tabular features](https://www.kaggle.com/thebrownviking20/analyzing-quora-for-the-insinceres)"
   ]
  },
  {
   "cell_type": "code",
   "execution_count": 2,
   "metadata": {
    "_uuid": "007007ea6ff66e7f1623ceab6afc4a179e836f61"
   },
   "outputs": [],
   "source": [
    "tc1 = time.perf_counter()"
   ]
  },
  {
   "cell_type": "code",
   "execution_count": 3,
   "metadata": {
    "_uuid": "007007ea6ff66e7f1623ceab6afc4a179e836f61"
   },
   "outputs": [],
   "source": [
    "production = True\n",
    "# production = False\n",
    "\n",
    "if production:\n",
    "    no_f1 = True  # do not compute test/val f1, use fixed number of epochs\n",
    "    no_val_split = False \n",
    "    no_val_split = True # use whole test set for training\n",
    "    f1_per_epoch = False\n",
    "else:\n",
    "    no_f1 = False\n",
    "    no_val_split = False\n",
    "    f1_per_epoch = True\n",
    "    \n",
    "use_tab = True\n",
    "# use_tab = False"
   ]
  },
  {
   "cell_type": "code",
   "execution_count": 4,
   "metadata": {
    "_uuid": "007007ea6ff66e7f1623ceab6afc4a179e836f61"
   },
   "outputs": [
    {
     "name": "stdout",
     "output_type": "stream",
     "text": [
      "Train shape :  (1306122, 3)\n",
      "Test shape :  (56370, 2)\n"
     ]
    },
    {
     "data": {
      "text/plain": [
       "18"
      ]
     },
     "execution_count": 4,
     "metadata": {},
     "output_type": "execute_result"
    }
   ],
   "source": [
    "df_train = pd.read_csv(\"../input/train.csv\")\n",
    "df_test = pd.read_csv(\"../input/test.csv\")\n",
    "\n",
    "test_qid = df_test[\"qid\"].values\n",
    "\n",
    "print(\"Train shape : \",df_train.shape)\n",
    "print(\"Test shape : \",df_test.shape)\n",
    "\n",
    "df_test['target'] = -1  # just a dummy value\n",
    "\n",
    "n_train = len(df_train)\n",
    "n_test = len(df_test)\n",
    "\n",
    "# easier to pre-process single DF, especially when building vocabulary\n",
    "df_total = pd.concat([df_train, df_test])\n",
    "del df_train, df_test\n",
    "gc.collect()"
   ]
  },
  {
   "cell_type": "code",
   "execution_count": 5,
   "metadata": {
    "_uuid": "cc744c9b55cf970de9b0c1c98e8d54fd168df50a"
   },
   "outputs": [],
   "source": [
    "def load_embed(file):\n",
    "    def get_coefs(word,*arr): \n",
    "        return word, np.asarray(arr, dtype='float32')\n",
    "    \n",
    "    if file == '../input/embeddings/wiki-news-300d-1M/wiki-news-300d-1M.vec':\n",
    "        embeddings_index = dict(get_coefs(*o.split(\" \")) for o in open(file) if len(o)>100)\n",
    "    else:\n",
    "        embeddings_index = dict(get_coefs(*o.split(\" \")) for o in open(file, encoding='latin'))\n",
    "        \n",
    "    return embeddings_index"
   ]
  },
  {
   "cell_type": "code",
   "execution_count": 6,
   "metadata": {
    "_uuid": "869fbaff414b18a2f567b9a498e0d261a42b9e18"
   },
   "outputs": [],
   "source": [
    "contraction_mapping = {\"ain't\": \"is not\", \"aren't\": \"are not\",\"can't\": \"cannot\", \"'cause\": \"because\", \"could've\": \"could have\", \"couldn't\": \"could not\", \"didn't\": \"did not\",  \"doesn't\": \"does not\", \"don't\": \"do not\", \"hadn't\": \"had not\", \"hasn't\": \"has not\", \"haven't\": \"have not\", \"he'd\": \"he would\",\"he'll\": \"he will\", \"he's\": \"he is\", \"how'd\": \"how did\", \"how'd'y\": \"how do you\", \"how'll\": \"how will\", \"how's\": \"how is\",  \"I'd\": \"I would\", \"I'd've\": \"I would have\", \"I'll\": \"I will\", \"I'll've\": \"I will have\",\"I'm\": \"I am\", \"I've\": \"I have\", \"i'd\": \"i would\", \"i'd've\": \"i would have\", \"i'll\": \"i will\",  \"i'll've\": \"i will have\",\"i'm\": \"i am\", \"i've\": \"i have\", \"isn't\": \"is not\", \"it'd\": \"it would\", \"it'd've\": \"it would have\", \"it'll\": \"it will\", \"it'll've\": \"it will have\",\"it's\": \"it is\", \"let's\": \"let us\", \"ma'am\": \"madam\", \"mayn't\": \"may not\", \"might've\": \"might have\",\"mightn't\": \"might not\",\"mightn't've\": \"might not have\", \"must've\": \"must have\", \"mustn't\": \"must not\", \"mustn't've\": \"must not have\", \"needn't\": \"need not\", \"needn't've\": \"need not have\",\"o'clock\": \"of the clock\", \"oughtn't\": \"ought not\", \"oughtn't've\": \"ought not have\", \"shan't\": \"shall not\", \"sha'n't\": \"shall not\", \"shan't've\": \"shall not have\", \"she'd\": \"she would\", \"she'd've\": \"she would have\", \"she'll\": \"she will\", \"she'll've\": \"she will have\", \"she's\": \"she is\", \"should've\": \"should have\", \"shouldn't\": \"should not\", \"shouldn't've\": \"should not have\", \"so've\": \"so have\",\"so's\": \"so as\", \"this's\": \"this is\",\"that'd\": \"that would\", \"that'd've\": \"that would have\", \"that's\": \"that is\", \"there'd\": \"there would\", \"there'd've\": \"there would have\", \"there's\": \"there is\", \"here's\": \"here is\",\"they'd\": \"they would\", \"they'd've\": \"they would have\", \"they'll\": \"they will\", \"they'll've\": \"they will have\", \"they're\": \"they are\", \"they've\": \"they have\", \"to've\": \"to have\", \"wasn't\": \"was not\", \"we'd\": \"we would\", \"we'd've\": \"we would have\", \"we'll\": \"we will\", \"we'll've\": \"we will have\", \"we're\": \"we are\", \"we've\": \"we have\", \"weren't\": \"were not\", \"what'll\": \"what will\", \"what'll've\": \"what will have\", \"what're\": \"what are\",  \"what's\": \"what is\", \"what've\": \"what have\", \"when's\": \"when is\", \"when've\": \"when have\", \"where'd\": \"where did\", \"where's\": \"where is\", \"where've\": \"where have\", \"who'll\": \"who will\", \"who'll've\": \"who will have\", \"who's\": \"who is\", \"who've\": \"who have\", \"why's\": \"why is\", \"why've\": \"why have\", \"will've\": \"will have\", \"won't\": \"will not\", \"won't've\": \"will not have\", \"would've\": \"would have\", \"wouldn't\": \"would not\", \"wouldn't've\": \"would not have\", \"y'all\": \"you all\", \"y'all'd\": \"you all would\",\"y'all'd've\": \"you all would have\",\"y'all're\": \"you all are\",\"y'all've\": \"you all have\",\"you'd\": \"you would\", \"you'd've\": \"you would have\", \"you'll\": \"you will\", \"you'll've\": \"you will have\", \"you're\": \"you are\", \"you've\": \"you have\" }\n",
    "punct = \"/-'?!.,#$%\\'()*+-/:;<=>@[\\\\]^_`{|}~\" + '\"\"“”’' + '∞θ÷α•à−β∅³π‘₹´°£€\\×™√²—–&'\n",
    "\n",
    "punct_mapping = {\"‘\": \"'\", \"₹\": \"e\", \"´\": \"'\", \"°\": \"\", \"€\": \"e\", \"™\": \"tm\", \"√\": \" sqrt \", \"×\": \"x\", \"²\": \"2\", \"—\": \"-\", \"–\": \"-\", \"’\": \"'\", \"_\": \"-\", \"`\": \"'\", '“': '\"', '”': '\"', '“': '\"', \"£\": \"e\", '∞': 'infinity', 'θ': 'theta', '÷': '/', 'α': 'alpha', '•': '.', 'à': 'a', '−': '-', 'β': 'beta', '∅': '', '³': '3', 'π': 'pi', }\n",
    "\n",
    "misspell_dict = {'colour': 'color', 'centre': 'center', 'favourite': 'favorite', 'travelling': 'traveling', 'counselling': 'counseling', 'theatre': 'theater', 'cancelled': 'canceled', 'labour': 'labor', 'organisation': 'organization', 'wwii': 'world war 2', 'citicise': 'criticize', 'youtu ': 'youtube ', 'Qoura': 'Quora', 'sallary': 'salary', 'Whta': 'What', 'narcisist': 'narcissist', 'howdo': 'how do', 'whatare': 'what are', 'howcan': 'how can', 'howmuch': 'how much', 'howmany': 'how many', 'whydo': 'why do', 'doI': 'do I', 'theBest': 'the best', 'howdoes': 'how does', 'mastrubation': 'masturbation', 'mastrubate': 'masturbate', \"mastrubating\": 'masturbating', 'pennis': 'penis', 'Etherium': 'Ethereum', 'narcissit': 'narcissist', 'bigdata': 'big data', '2k17': '2017', '2k18': '2018', 'qouta': 'quota', 'exboyfriend': 'ex boyfriend', 'airhostess': 'air hostess', \"whst\": 'what', 'watsapp': 'whatsapp', 'demonitisation': 'demonetization', 'demonitization': 'demonetization', 'demonetisation': 'demonetization', 'pokémon': 'pokemon'}"
   ]
  },
  {
   "cell_type": "code",
   "execution_count": 7,
   "metadata": {
    "_uuid": "d79a2f345442811bbff5847035e35a5c737a5029"
   },
   "outputs": [],
   "source": [
    "def build_vocab(texts):\n",
    "    sentences = texts.apply(lambda x: x.split()).values\n",
    "    vocab = {}\n",
    "    for sentence in sentences:\n",
    "        for word in sentence:\n",
    "            try:\n",
    "                vocab[word] += 1\n",
    "            except KeyError:\n",
    "                vocab[word] = 1\n",
    "    return vocab\n",
    "\n",
    "def add_lower(embedding, vocab):\n",
    "    count = 0\n",
    "    for word in vocab:\n",
    "        if word in embedding and word.lower() not in embedding:  \n",
    "            embedding[word.lower()] = embedding[word]\n",
    "            count += 1\n",
    "    print(f\"Added {count} words to embedding\")\n",
    "    \n",
    "\n",
    "def clean_contractions(text, mapping):\n",
    "    specials = [\"’\", \"‘\", \"´\", \"`\"]\n",
    "    for s in specials:\n",
    "        text = text.replace(s, \"'\")\n",
    "    text = ' '.join([mapping[t] if t in mapping else t for t in text.split(\" \")])\n",
    "    return text\n",
    "\n",
    "def unknown_punct(embedding, punct):\n",
    "    unknown = ''\n",
    "    for p in punct:\n",
    "        if p not in embedding:\n",
    "            unknown += p\n",
    "            unknown += ' '\n",
    "    return unknown\n",
    "\n",
    "def clean_special_chars(text, punct, mapping):\n",
    "    for p in mapping:\n",
    "        text = text.replace(p, mapping[p])\n",
    "    \n",
    "    for p in punct:\n",
    "        text = text.replace(p, f' {p} ')\n",
    "    \n",
    "    specials = {'\\u200b': ' ', '…': ' ... ', '\\ufeff': '', 'करना': '', 'है': ''}  # Other special characters that I have to deal with in last\n",
    "    for s in specials:\n",
    "        text = text.replace(s, specials[s])\n",
    "    \n",
    "    return text\n",
    "\n",
    "def clean_numbers(x):\n",
    "    x = re.sub('[0-9]{5,}', '#####', x)\n",
    "    x = re.sub('[0-9]{4}', '####', x)\n",
    "    x = re.sub('[0-9]{3}', '###', x)\n",
    "    x = re.sub('[0-9]{2}', '##', x)\n",
    "    return x\n",
    "\n",
    "def correct_spelling(x, dic):\n",
    "    for word in dic.keys():\n",
    "        x = x.replace(word, dic[word])\n",
    "    return x"
   ]
  },
  {
   "cell_type": "code",
   "execution_count": 8,
   "metadata": {
    "_uuid": "9cb17fc6019daafc86ac1179a07426aa5f0f6168"
   },
   "outputs": [
    {
     "name": "stdout",
     "output_type": "stream",
     "text": [
      "len\n",
      "digits\n",
      "capital letters\n",
      "chars\n",
      "15\n"
     ]
    }
   ],
   "source": [
    "def compute_len(df):\n",
    "    df['question_text_len'] = df['question_text'].apply(lambda x: len(x))\n",
    "\n",
    "\n",
    "def count_chars_multiple(df, chars):\n",
    "    start_count = False\n",
    "    new_name = 'question_text_count_' + '_'.join(chars)\n",
    "    for ch in chars:\n",
    "        if start_count:\n",
    "            df[new_name] += df['question_text'].apply(lambda x: x.count(ch))\n",
    "        else:\n",
    "            df[new_name] = df['question_text'].apply(lambda x: x.count(ch))\n",
    "            start_count = True\n",
    "\n",
    "\n",
    "def count_chars(df, chars):\n",
    "    for ch in chars:\n",
    "        df['question_text_count_' + ch] = df['question_text'].apply(lambda x: x.count(ch))\n",
    "\n",
    "\n",
    "def compute_chars_digits(df):\n",
    "    df['question_text_digits'] = df['question_text'].apply(lambda x: sum(c.isdigit() for c in x))\n",
    "\n",
    "\n",
    "def count_capital_letters(df):\n",
    "    df['question_text_capital_letters'] = df['question_text'].apply(lambda x: sum(c.isupper() for c in x))\n",
    "\n",
    "\n",
    "def count_bad_punctuation(df, chars):\n",
    "    start_count = False\n",
    "    new_name = 'question_text_count_badpc_' + '_'.join(chars)\n",
    "    for ch in chars:\n",
    "        rex = '\\\\' + ch + r'[^\\s-]'\n",
    "        if start_count:\n",
    "            df[new_name] += df['question_text'].apply(lambda x: len(re.findall(rex, x)))\n",
    "        else:\n",
    "            df[new_name] = df['question_text'].apply(lambda x: len(re.findall(rex, x)))\n",
    "            start_count = True\n",
    "\n",
    "\n",
    "def count_bad_punctuation2(df, chars):\n",
    "    start_count = False\n",
    "    new_name = 'question_text_count_badpc2_' + '_'.join(chars)\n",
    "    for ch in chars:\n",
    "        rex = r'[^\\s-]' + '\\\\' + ch\n",
    "        if start_count:\n",
    "            df[new_name] += df['question_text'].apply(lambda x: len(re.findall(rex, x)))\n",
    "        else:\n",
    "            df[new_name] = df['question_text'].apply(lambda x: len(re.findall(rex, x)))\n",
    "            start_count = True\n",
    "\n",
    "\n",
    "def compute_wl(x):\n",
    "    splitstr = x.split()\n",
    "    if len(splitstr) == 0:\n",
    "        return 0\n",
    "    else:\n",
    "        return len(max(splitstr, key=len))\n",
    "\n",
    "def compute_wl2(x):\n",
    "    splitstr = x.split()\n",
    "    if len(splitstr) == 0:\n",
    "        return [0, 0, 0, 0, 0]\n",
    "    else:\n",
    "        # number of words, length of longest word, amt of words with length < 4, median word length\n",
    "        # std of word length\n",
    "        shortwords = [xx for xx in splitstr if len(xx) < 4]\n",
    "        wordlens = [len(xx) for xx in splitstr]\n",
    "        \n",
    "        \n",
    "        return [len(splitstr), len(max(splitstr, key=len)), len(shortwords), np.median(wordlens),\n",
    "                np.std(wordlens)]\n",
    "\n",
    "                \n",
    "def longest_word(df):\n",
    "    df['question_text_longest'] = df['question_text'].apply(lambda x: compute_wl(x))\n",
    "    \n",
    "\n",
    "def word_lengths(df):\n",
    "    df['question_text_longest_list'] = df['question_text'].apply(lambda x: compute_wl2(x))\n",
    "    df['question_text_numofwords'] = df['question_text_longest_list'].apply(lambda x: x[0])\n",
    "    df['question_text_longestword'] = df['question_text_longest_list'].apply(lambda x: x[1])\n",
    "    df['question_text_shortwords'] = df['question_text_longest_list'].apply(lambda x: x[2])\n",
    "    df['question_text_medwordlen'] = df['question_text_longest_list'].apply(lambda x: x[3])\n",
    "    df['question_text_stdwordlen'] = df['question_text_longest_list'].apply(lambda x: x[4])\n",
    "\n",
    "\n",
    "def count_multiple_exclamation(df):\n",
    "    rex = r'!{2,}'\n",
    "    new_name = 'question_text_multipleexclamation'\n",
    "    df[new_name] = df['question_text'].apply(lambda x: len(re.findall(rex, x)))\n",
    "    \n",
    "\n",
    "def count_multiple_chars(df, chars):\n",
    "    for ch in chars:\n",
    "        rex = ch + r'{2,}'\n",
    "        new_name = 'question_text_multiple_' + ch\n",
    "        df[new_name] = df['question_text'].apply(lambda x: len(re.findall(rex, x)))\n",
    "    \n",
    "\n",
    "\n",
    "def compute_percentage(df, column_names, divisor):\n",
    "    for col_name in column_names:\n",
    "        df[col_name + '_div_' + divisor] = df[col_name] / (df[divisor] + 1)\n",
    "    return df\n",
    "\n",
    "charslist = ['!', '?', '$', '&', '(', ')']\n",
    "charslist_use = ['!', '?', '$', '&', '(']\n",
    "\n",
    "if use_tab:\n",
    "\n",
    "    compute_len(df_total)\n",
    "    print('len')\n",
    "\n",
    "    compute_chars_digits(df_total)\n",
    "    print('digits')\n",
    "\n",
    "    count_capital_letters(df_total)\n",
    "    print('capital letters')\n",
    "\n",
    "    count_chars(df_total, charslist)\n",
    "    print('chars')\n",
    "\n",
    "    word_lengths(df_total)\n",
    "\n",
    "    count_bad_punctuation(df_total, ['.', ',', ')'])\n",
    "\n",
    "    count_bad_punctuation2(df_total, ['('])\n",
    "\n",
    "    count_multiple_chars(df_total, ['!', r'\\.', r'\\?'])\n",
    "\n",
    "\n",
    "    df_total['unbalanced_qt_('] = abs(df_total['question_text_count_('] - df_total['question_text_count_)'])\n",
    "\n",
    "    tab_features_list = ['question_text_len', 'question_text_numofwords', 'question_text_longestword',\n",
    "                         'question_text_shortwords', 'question_text_medwordlen',\n",
    "                         'question_text_stdwordlen']\n",
    "\n",
    "    for sch in charslist_use:\n",
    "        # count_chars(df_total, [sch])\n",
    "        compute_percentage(df_total, ['question_text_count_' + sch], 'question_text_len')\n",
    "        tab_features_list += ['question_text_count_' + sch + '_div_question_text_len']\n",
    "\n",
    "\n",
    "    compute_percentage(df_total, ['question_text_capital_letters',\n",
    "                                  'question_text_digits', 'unbalanced_qt_(',\n",
    "                                  'question_text_count_badpc_._,_)'], 'question_text_len')\n",
    "\n",
    "    tab_features_list += ['question_text_capital_letters_div_question_text_len']\n",
    "    tab_features_list += ['question_text_digits_div_question_text_len']\n",
    "    tab_features_list += ['unbalanced_qt_(_div_question_text_len']\n",
    "    tab_features_list += ['question_text_count_badpc_._,_)_div_question_text_len']\n",
    "\n",
    "    print(len(tab_features_list))\n",
    "else:\n",
    "    tab_features_list = []"
   ]
  },
  {
   "cell_type": "code",
   "execution_count": 9,
   "metadata": {
    "_uuid": "9cb17fc6019daafc86ac1179a07426aa5f0f6168"
   },
   "outputs": [],
   "source": [
    "for tab_feat in tab_features_list:\n",
    "    tab_mean = df_total[tab_feat].mean()\n",
    "    tab_std = df_total[tab_feat].std()\n",
    "    df_total[tab_feat] = (df_total[tab_feat] - tab_mean) / tab_std"
   ]
  },
  {
   "cell_type": "code",
   "execution_count": 10,
   "metadata": {
    "_uuid": "9cb17fc6019daafc86ac1179a07426aa5f0f6168"
   },
   "outputs": [],
   "source": [
    "if not production:\n",
    "    for tab_feat in tab_features_list:\n",
    "        print(tab_feat, df_total[df_total['target']==0][tab_feat].mean(),\n",
    "              df_total[df_total['target']==1][tab_feat].mean())"
   ]
  },
  {
   "cell_type": "code",
   "execution_count": 11,
   "metadata": {
    "_uuid": "9cb17fc6019daafc86ac1179a07426aa5f0f6168"
   },
   "outputs": [],
   "source": [
    "def clean_question_text(df):\n",
    "    # clean\n",
    "    df['question_text'] = df['question_text'].apply(lambda x:\n",
    "                                                    clean_numbers(x))\n",
    "    \n",
    "    df['question_text'] = df['question_text'].apply(lambda x:\n",
    "                                                    clean_contractions(x, contraction_mapping))\n",
    "    \n",
    "    df['question_text'] = df['question_text'].apply(lambda x:\n",
    "                                                    clean_special_chars(x, punct, punct_mapping))\n",
    "    \n",
    "    df['question_text'] = df['question_text'].apply(lambda x: correct_spelling(x, misspell_dict))"
   ]
  },
  {
   "cell_type": "code",
   "execution_count": 12,
   "metadata": {
    "_uuid": "9cb17fc6019daafc86ac1179a07426aa5f0f6168"
   },
   "outputs": [],
   "source": [
    "def improve_embedding(df, embedding):\n",
    "    vocab = build_vocab(df['question_text'])\n",
    "    add_lower(embedding, vocab)"
   ]
  },
  {
   "cell_type": "code",
   "execution_count": 13,
   "metadata": {
    "_uuid": "7ef2465322c124445f0bc596504c650c66021f1b"
   },
   "outputs": [],
   "source": [
    "len_voc = 95000\n",
    "max_len = 70\n",
    "\n",
    "\n",
    "def make_data(X):\n",
    "    t = Tokenizer(num_words=len_voc, filters='')\n",
    "    t.fit_on_texts(X)\n",
    "    X = t.texts_to_sequences(X)\n",
    "    X = pad_sequences(X, maxlen=max_len)\n",
    "    return X, t.word_index\n",
    "\n",
    "def make_embed_matrix(embeddings_index, word_index, len_voc):\n",
    "    all_embs = np.stack(embeddings_index.values())\n",
    "    emb_mean,emb_std = all_embs.mean(), all_embs.std()\n",
    "    embed_size = all_embs.shape[1]\n",
    "    word_index = word_index\n",
    "    embedding_matrix = np.random.normal(emb_mean, emb_std, (len_voc, embed_size))\n",
    "    \n",
    "    for word, i in word_index.items():\n",
    "        if i >= len_voc:\n",
    "            continue\n",
    "        embedding_vector = embeddings_index.get(word)\n",
    "        if embedding_vector is not None: \n",
    "            embedding_matrix[i] = embedding_vector\n",
    "    \n",
    "    return embedding_matrix"
   ]
  },
  {
   "cell_type": "code",
   "execution_count": 14,
   "metadata": {
    "_uuid": "c354aeeea626dd266b71c3523d3e444e4d19cdf2"
   },
   "outputs": [],
   "source": [
    "def compute_len(df):\n",
    "    df['question_text_len'] = df['question_text'].apply(lambda x: len(x))\n",
    "\n",
    "\n",
    "def count_chars_multiple(df, chars):\n",
    "    start_count = False\n",
    "    new_name = 'question_text_count_' + '_'.join(chars)\n",
    "    for ch in chars:\n",
    "        if start_count:\n",
    "            df[new_name] += df['question_text'].apply(lambda x: x.count(ch))\n",
    "        else:\n",
    "            df[new_name] = df['question_text'].apply(lambda x: x.count(ch))\n",
    "            start_count = True\n",
    "\n",
    "\n",
    "def count_chars(df, chars):\n",
    "    for ch in chars:\n",
    "        df['question_text_count_' + ch] = df['question_text'].apply(lambda x: x.count(ch))\n",
    "\n",
    "\n",
    "def compute_chars_digits(df):\n",
    "    df['question_text_digits'] = df['question_text'].apply(lambda x: sum(c.isdigit() for c in x))\n",
    "    df['question_text_chars'] = df['question_text'].apply(lambda x: sum(c.isalpha() for c in x))\n",
    "\n",
    "\n",
    "def count_words(df):\n",
    "    for col in col_names:\n",
    "        df['question_text_words'] = df['question_text'].apply(lambda x: len(x.split()))\n",
    "\n",
    "\n",
    "def count_capital_letters(df):\n",
    "    df['question_text_capital_letters'] = df['question_text'].apply(lambda x: sum(c.isupper() for c in x))\n",
    "\n",
    "\n",
    "def count_bad_punctuation(df, chars):\n",
    "    start_count = False\n",
    "    new_name = 'question_text_count_badpc_' + '_'.join(chars)\n",
    "    for ch in chars:\n",
    "        rex = '\\\\' + ch + r'[^\\s-]'\n",
    "        if start_count:\n",
    "            df[new_name] += df['question_text'].apply(lambda x: len(findall(rex, x)))\n",
    "        else:\n",
    "            df[new_name] = df['question_text'].apply(lambda x: len(findall(rex, x)))\n",
    "            start_count = True\n",
    "\n",
    "\n",
    "def count_bad_punctuation2(df, chars):\n",
    "    start_count = False\n",
    "    new_name = 'question_text_count_badpc2_' + '_'.join(chars)\n",
    "    for ch in chars:\n",
    "        rex = r'[^\\s-]' + '\\\\' + ch\n",
    "        if start_count:\n",
    "            df[new_name] += df['question_text'].apply(lambda x: len(findall(rex, x)))\n",
    "        else:\n",
    "            df[new_name] = df['question_text'].apply(lambda x: len(findall(rex, x)))\n",
    "            start_count = True\n",
    "\n",
    "\n",
    "def count_english_chars(df):\n",
    "    df['question_text_eng_chars'] = df['question_text'].apply(lambda x: len(findall('[a-zA-Z]', x)))\n",
    "\n",
    "\n",
    "def count_unique_words(df):\n",
    "    df['question_text_num_unique_words'] = df['question_text'].apply(lambda x: len(set(w.lower() for w in x.split())))\n",
    "    \n",
    "\n",
    "def compute_wl(x):\n",
    "    splitstr = x.split()\n",
    "    if len(splitstr) == 0:\n",
    "        return 0\n",
    "    else:\n",
    "        return len(max(splitstr, key=len))\n",
    "\n",
    "def longest_word(df):\n",
    "    df['question_text_longest'] = df['question_text'].apply(lambda x: compute_wl(x))\n",
    "\n",
    "\n",
    "def count_multiple_exclamation(df):\n",
    "    rex = r'!{2,}'\n",
    "    new_name = 'question_text_multipleexclamation'\n",
    "    df[new_name] = df['question_text'].apply(lambda x: len(findall(rex, x)))\n"
   ]
  },
  {
   "cell_type": "code",
   "execution_count": 15,
   "metadata": {
    "_uuid": "c354aeeea626dd266b71c3523d3e444e4d19cdf2"
   },
   "outputs": [
    {
     "name": "stdout",
     "output_type": "stream",
     "text": [
      "Loading 1/1\n",
      "Added 17690 words to embedding\n"
     ]
    },
    {
     "name": "stderr",
     "output_type": "stream",
     "text": [
      "/opt/conda/lib/python3.6/site-packages/ipykernel_launcher.py:13: FutureWarning: arrays to stack must be passed as a \"sequence\" type such as list or tuple. Support for non-sequence iterables such as generators is deprecated as of NumPy 1.16 and will raise an error in the future.\n",
      "  del sys.path[0]\n"
     ]
    },
    {
     "data": {
      "text/plain": [
       "0"
      ]
     },
     "execution_count": 15,
     "metadata": {},
     "output_type": "execute_result"
    }
   ],
   "source": [
    "embedding_files = [\n",
    "    '../input/embeddings/glove.840B.300d/glove.840B.300d.txt',\n",
    "#     '../input/embeddings/wiki-news-300d-1M/wiki-news-300d-1M.vec',\n",
    "#     '../input/embeddings/paragram_300_sl999/paragram_300_sl999.txt'\n",
    "]\n",
    "\n",
    "clean_question_text(df_total)\n",
    "embeddings_list = []\n",
    "\n",
    "X_total, word_index = make_data(df_total['question_text'])\n",
    "\n",
    "for i, embedding_f in enumerate(embedding_files):\n",
    "    print('Loading {}/{}'.format(i + 1, len(embedding_files)))\n",
    "    embed = load_embed(embedding_f)\n",
    "\n",
    "    improve_embedding(df_total, embed)\n",
    "\n",
    "    embeddings_list.append(make_embed_matrix(embed, word_index, len_voc))\n",
    "\n",
    "del word_index\n",
    "del embed\n",
    "\n",
    "gc.collect()"
   ]
  },
  {
   "cell_type": "code",
   "execution_count": 16,
   "metadata": {
    "_uuid": "7d2054f4d8d94ac8d35e119f16e0f84a755f288e"
   },
   "outputs": [
    {
     "name": "stdout",
     "output_type": "stream",
     "text": [
      "(1362492, 15) (1362492, 70)\n"
     ]
    }
   ],
   "source": [
    "if use_tab:\n",
    "    X_tab = df_total[tab_features_list].values\n",
    "    print(X_tab.shape, X_total.shape)\n",
    "    len_tab = len(tab_features_list)"
   ]
  },
  {
   "cell_type": "code",
   "execution_count": 17,
   "metadata": {
    "_uuid": "7d2054f4d8d94ac8d35e119f16e0f84a755f288e"
   },
   "outputs": [
    {
     "name": "stdout",
     "output_type": "stream",
     "text": [
      "(56370, 85) 56370\n",
      "(1306122,)\n"
     ]
    }
   ],
   "source": [
    "if use_tab:\n",
    "    X_total = np.hstack((X_total, X_tab))\n",
    "    del X_tab\n",
    "\n",
    "X_train_full = X_total[:n_train, :]\n",
    "X_test = X_total[n_train:, :]\n",
    "\n",
    "print(X_test.shape, n_test)\n",
    "del X_total\n",
    "\n",
    "y = df_total['target'].values[:n_train]\n",
    "print(y.shape)\n",
    "\n",
    "del df_total"
   ]
  },
  {
   "cell_type": "code",
   "execution_count": 18,
   "metadata": {
    "_uuid": "b1d6d2e66f74f39235926510c6f55ce1214b4bfd"
   },
   "outputs": [
    {
     "name": "stdout",
     "output_type": "stream",
     "text": [
      "Time to preprocess 506.2980740000057\n"
     ]
    }
   ],
   "source": [
    "tc_preprocess = time.perf_counter()\n",
    "print('Time to preprocess', tc_preprocess - tc1)"
   ]
  },
  {
   "cell_type": "code",
   "execution_count": 19,
   "metadata": {
    "_uuid": "b1d6d2e66f74f39235926510c6f55ce1214b4bfd"
   },
   "outputs": [],
   "source": [
    "def f1(y_true, y_pred):\n",
    "    def recall(y_true, y_pred):\n",
    "        true_positives = K.sum(K.round(K.clip(y_true * y_pred, 0, 1)))\n",
    "        possible_positives = K.sum(K.round(K.clip(y_true, 0, 1)))\n",
    "        recall = true_positives / (possible_positives + K.epsilon())\n",
    "        return recall\n",
    "\n",
    "    def precision(y_true, y_pred):\n",
    "        true_positives = K.sum(K.round(K.clip(y_true * y_pred, 0, 1)))\n",
    "        predicted_positives = K.sum(K.round(K.clip(y_pred, 0, 1)))\n",
    "        precision = true_positives / (predicted_positives + K.epsilon())\n",
    "        return precision\n",
    "    \n",
    "    precision = precision(y_true, y_pred)\n",
    "    recall = recall(y_true, y_pred)\n",
    "    return 2*((precision*recall)/(precision+recall+K.epsilon()))"
   ]
  },
  {
   "cell_type": "code",
   "execution_count": 20,
   "metadata": {
    "_uuid": "9ede4a494025d43834ed7a674121322d315bc076"
   },
   "outputs": [],
   "source": [
    "def squash(x, axis=-1):\n",
    "    # s_squared_norm is really small\n",
    "    # s_squared_norm = K.sum(K.square(x), axis, keepdims=True) + K.epsilon()\n",
    "    # scale = K.sqrt(s_squared_norm)/ (0.5 + s_squared_norm)\n",
    "    # return scale * x\n",
    "    s_squared_norm = K.sum(K.square(x), axis, keepdims=True)\n",
    "    scale = K.sqrt(s_squared_norm + K.epsilon())\n",
    "    return x / scale\n",
    "\n",
    "# A Capsule Implement with Pure Keras\n",
    "class Capsule(Layer):\n",
    "    def __init__(self, num_capsule, dim_capsule, routings=3, kernel_size=(9, 1), share_weights=True,\n",
    "                 activation='default', **kwargs):\n",
    "        super(Capsule, self).__init__(**kwargs)\n",
    "        self.num_capsule = num_capsule\n",
    "        self.dim_capsule = dim_capsule\n",
    "        self.routings = routings\n",
    "        self.kernel_size = kernel_size\n",
    "        self.share_weights = share_weights\n",
    "        if activation == 'default':\n",
    "            self.activation = squash\n",
    "        else:\n",
    "            self.activation = Activation(activation)\n",
    "\n",
    "    def build(self, input_shape):\n",
    "        super(Capsule, self).build(input_shape)\n",
    "        input_dim_capsule = input_shape[-1]\n",
    "        if self.share_weights:\n",
    "            self.W = self.add_weight(name='capsule_kernel',\n",
    "                                     shape=(1, input_dim_capsule,\n",
    "                                            self.num_capsule * self.dim_capsule),\n",
    "                                     # shape=self.kernel_size,\n",
    "                                     initializer='glorot_uniform',\n",
    "                                     trainable=True)\n",
    "        else:\n",
    "            input_num_capsule = input_shape[-2]\n",
    "            self.W = self.add_weight(name='capsule_kernel',\n",
    "                                     shape=(input_num_capsule,\n",
    "                                            input_dim_capsule,\n",
    "                                            self.num_capsule * self.dim_capsule),\n",
    "                                     initializer='glorot_uniform',\n",
    "                                     trainable=True)\n",
    "\n",
    "    def call(self, u_vecs):\n",
    "        if self.share_weights:\n",
    "            u_hat_vecs = K.conv1d(u_vecs, self.W)\n",
    "        else:\n",
    "            u_hat_vecs = K.local_conv1d(u_vecs, self.W, [1], [1])\n",
    "\n",
    "        batch_size = K.shape(u_vecs)[0]\n",
    "        input_num_capsule = K.shape(u_vecs)[1]\n",
    "        u_hat_vecs = K.reshape(u_hat_vecs, (batch_size, input_num_capsule,\n",
    "                                            self.num_capsule, self.dim_capsule))\n",
    "        u_hat_vecs = K.permute_dimensions(u_hat_vecs, (0, 2, 1, 3))\n",
    "        # final u_hat_vecs.shape = [None, num_capsule, input_num_capsule, dim_capsule]\n",
    "\n",
    "        b = K.zeros_like(u_hat_vecs[:, :, :, 0])  # shape = [None, num_capsule, input_num_capsule]\n",
    "        for i in range(self.routings):\n",
    "            b = K.permute_dimensions(b, (0, 2, 1))  # shape = [None, input_num_capsule, num_capsule]\n",
    "            c = K.softmax(b)\n",
    "            c = K.permute_dimensions(c, (0, 2, 1))\n",
    "            b = K.permute_dimensions(b, (0, 2, 1))\n",
    "            outputs = self.activation(tf.keras.backend.batch_dot(c, u_hat_vecs, [2, 2]))\n",
    "            if i < self.routings - 1:\n",
    "                b = tf.keras.backend.batch_dot(outputs, u_hat_vecs, [2, 3])\n",
    "\n",
    "        return outputs\n",
    "\n",
    "    def compute_output_shape(self, input_shape):\n",
    "        return (None, self.num_capsule, self.dim_capsule)"
   ]
  },
  {
   "cell_type": "code",
   "execution_count": 21,
   "metadata": {
    "_uuid": "9ede4a494025d43834ed7a674121322d315bc076"
   },
   "outputs": [],
   "source": [
    "class CyclicLR(Callback):\n",
    "    \"\"\"This callback implements a cyclical learning rate policy (CLR).\n",
    "    The method cycles the learning rate between two boundaries with\n",
    "    some constant frequency, as detailed in this paper (https://arxiv.org/abs/1506.01186).\n",
    "    The amplitude of the cycle can be scaled on a per-iteration or \n",
    "    per-cycle basis.\n",
    "    This class has three built-in policies, as put forth in the paper.\n",
    "    \"triangular\":\n",
    "        A basic triangular cycle w/ no amplitude scaling.\n",
    "    \"triangular2\":\n",
    "        A basic triangular cycle that scales initial amplitude by half each cycle.\n",
    "    \"exp_range\":\n",
    "        A cycle that scales initial amplitude by gamma**(cycle iterations) at each \n",
    "        cycle iteration.\n",
    "    For more detail, please see paper.\n",
    "    \n",
    "    # Example\n",
    "        ```python\n",
    "            clr = CyclicLR(base_lr=0.001, max_lr=0.006,\n",
    "                                step_size=2000., mode='triangular')\n",
    "            model.fit(X_train, Y_train, callbacks=[clr])\n",
    "        ```\n",
    "    \n",
    "    Class also supports custom scaling functions:\n",
    "        ```python\n",
    "            clr_fn = lambda x: 0.5*(1+np.sin(x*np.pi/2.))\n",
    "            clr = CyclicLR(base_lr=0.001, max_lr=0.006,\n",
    "                                step_size=2000., scale_fn=clr_fn,\n",
    "                                scale_mode='cycle')\n",
    "            model.fit(X_train, Y_train, callbacks=[clr])\n",
    "        ```    \n",
    "    # Arguments\n",
    "        base_lr: initial learning rate which is the\n",
    "            lower boundary in the cycle.\n",
    "        max_lr: upper boundary in the cycle. Functionally,\n",
    "            it defines the cycle amplitude (max_lr - base_lr).\n",
    "            The lr at any cycle is the sum of base_lr\n",
    "            and some scaling of the amplitude; therefore \n",
    "            max_lr may not actually be reached depending on\n",
    "            scaling function.\n",
    "        step_size: number of training iterations per\n",
    "            half cycle. Authors suggest setting step_size\n",
    "            2-8 x training iterations in epoch.\n",
    "        mode: one of {triangular, triangular2, exp_range}.\n",
    "            Default 'triangular'.\n",
    "            Values correspond to policies detailed above.\n",
    "            If scale_fn is not None, this argument is ignored.\n",
    "        gamma: constant in 'exp_range' scaling function:\n",
    "            gamma**(cycle iterations)\n",
    "        scale_fn: Custom scaling policy defined by a single\n",
    "            argument lambda function, where \n",
    "            0 <= scale_fn(x) <= 1 for all x >= 0.\n",
    "            mode paramater is ignored \n",
    "        scale_mode: {'cycle', 'iterations'}.\n",
    "            Defines whether scale_fn is evaluated on \n",
    "            cycle number or cycle iterations (training\n",
    "            iterations since start of cycle). Default is 'cycle'.\n",
    "    \"\"\"\n",
    "\n",
    "    def __init__(self, base_lr=0.001, max_lr=0.006, step_size=2000., mode='triangular',\n",
    "                 gamma=1., scale_fn=None, scale_mode='cycle'):\n",
    "        super(CyclicLR, self).__init__()\n",
    "\n",
    "        self.base_lr = base_lr\n",
    "        self.max_lr = max_lr\n",
    "        self.step_size = step_size\n",
    "        self.mode = mode\n",
    "        self.gamma = gamma\n",
    "        if scale_fn == None:\n",
    "            if self.mode == 'triangular':\n",
    "                self.scale_fn = lambda x: 1.\n",
    "                self.scale_mode = 'cycle'\n",
    "            elif self.mode == 'triangular2':\n",
    "                self.scale_fn = lambda x: 1/(2.**(x-1))\n",
    "                self.scale_mode = 'cycle'\n",
    "            elif self.mode == 'exp_range':\n",
    "                self.scale_fn = lambda x: gamma**(x)\n",
    "                self.scale_mode = 'iterations'\n",
    "        else:\n",
    "            self.scale_fn = scale_fn\n",
    "            self.scale_mode = scale_mode\n",
    "        self.clr_iterations = 0.\n",
    "        self.trn_iterations = 0.\n",
    "        self.history = {}\n",
    "\n",
    "        self._reset()\n",
    "\n",
    "    def _reset(self, new_base_lr=None, new_max_lr=None,\n",
    "               new_step_size=None):\n",
    "        \"\"\"Resets cycle iterations.\n",
    "        Optional boundary/step size adjustment.\n",
    "        \"\"\"\n",
    "        if new_base_lr != None:\n",
    "            self.base_lr = new_base_lr\n",
    "        if new_max_lr != None:\n",
    "            self.max_lr = new_max_lr\n",
    "        if new_step_size != None:\n",
    "            self.step_size = new_step_size\n",
    "        self.clr_iterations = 0.\n",
    "        \n",
    "    def clr(self):\n",
    "        cycle = np.floor(1+self.clr_iterations/(2*self.step_size))\n",
    "        x = np.abs(self.clr_iterations/self.step_size - 2*cycle + 1)\n",
    "        if self.scale_mode == 'cycle':\n",
    "            return self.base_lr + (self.max_lr-self.base_lr)*np.maximum(0, (1-x))*self.scale_fn(cycle)\n",
    "        else:\n",
    "            return self.base_lr + (self.max_lr-self.base_lr)*np.maximum(0, (1-x))*self.scale_fn(self.clr_iterations)\n",
    "        \n",
    "    def on_train_begin(self, logs={}):\n",
    "        logs = logs or {}\n",
    "\n",
    "        if self.clr_iterations == 0:\n",
    "            K.set_value(self.model.optimizer.lr, self.base_lr)\n",
    "        else:\n",
    "            K.set_value(self.model.optimizer.lr, self.clr())        \n",
    "            \n",
    "    def on_batch_end(self, epoch, logs=None):\n",
    "        \n",
    "        logs = logs or {}\n",
    "        self.trn_iterations += 1\n",
    "        self.clr_iterations += 1\n",
    "\n",
    "        self.history.setdefault('lr', []).append(K.get_value(self.model.optimizer.lr))\n",
    "        self.history.setdefault('iterations', []).append(self.trn_iterations)\n",
    "\n",
    "        for k, v in logs.items():\n",
    "            self.history.setdefault(k, []).append(v)\n",
    "        \n",
    "        K.set_value(self.model.optimizer.lr, self.clr())"
   ]
  },
  {
   "cell_type": "code",
   "execution_count": 22,
   "metadata": {
    "_uuid": "9ede4a494025d43834ed7a674121322d315bc076"
   },
   "outputs": [],
   "source": [
    "class Attention(Layer):\n",
    "    def __init__(self, step_dim,\n",
    "                 W_regularizer=None, b_regularizer=None,\n",
    "                 W_constraint=None, b_constraint=None,\n",
    "                 bias=True, **kwargs):\n",
    "        self.supports_masking = True\n",
    "        self.init = initializers.get('glorot_uniform')\n",
    "\n",
    "        self.W_regularizer = regularizers.get(W_regularizer)\n",
    "        self.b_regularizer = regularizers.get(b_regularizer)\n",
    "\n",
    "        self.W_constraint = constraints.get(W_constraint)\n",
    "        self.b_constraint = constraints.get(b_constraint)\n",
    "\n",
    "        self.bias = bias\n",
    "        self.step_dim = step_dim\n",
    "        self.features_dim = 0\n",
    "        super(Attention, self).__init__(**kwargs)\n",
    "\n",
    "    def build(self, input_shape):\n",
    "        assert len(input_shape) == 3\n",
    "\n",
    "        self.W = self.add_weight((input_shape[-1],),\n",
    "                                 initializer=self.init,\n",
    "                                 name='{}_W'.format(self.name),\n",
    "                                 regularizer=self.W_regularizer,\n",
    "                                 constraint=self.W_constraint)\n",
    "        self.features_dim = input_shape[-1]\n",
    "\n",
    "        if self.bias:\n",
    "            self.b = self.add_weight((input_shape[1],),\n",
    "                                     initializer='zero',\n",
    "                                     name='{}_b'.format(self.name),\n",
    "                                     regularizer=self.b_regularizer,\n",
    "                                     constraint=self.b_constraint)\n",
    "        else:\n",
    "            self.b = None\n",
    "\n",
    "        self.built = True\n",
    "\n",
    "    def compute_mask(self, input, input_mask=None):\n",
    "        return None\n",
    "\n",
    "    def call(self, x, mask=None):\n",
    "        features_dim = self.features_dim\n",
    "        step_dim = self.step_dim\n",
    "\n",
    "        eij = K.reshape(K.dot(K.reshape(x, (-1, features_dim)),\n",
    "                        K.reshape(self.W, (features_dim, 1))), (-1, step_dim))\n",
    "\n",
    "        if self.bias:\n",
    "            eij += self.b\n",
    "\n",
    "        eij = K.tanh(eij)\n",
    "\n",
    "        a = K.exp(eij)\n",
    "\n",
    "        if mask is not None:\n",
    "            a *= K.cast(mask, K.floatx())\n",
    "\n",
    "        a /= K.cast(K.sum(a, axis=1, keepdims=True) + K.epsilon(), K.floatx())\n",
    "\n",
    "        a = K.expand_dims(a)\n",
    "        weighted_input = x * a\n",
    "        return K.sum(weighted_input, axis=1)\n",
    "\n",
    "    def compute_output_shape(self, input_shape):\n",
    "        return input_shape[0],  self.features_dim"
   ]
  },
  {
   "cell_type": "code",
   "execution_count": 23,
   "metadata": {
    "_uuid": "6e18e5322c74ba3523994f54145096cc7612cf6e"
   },
   "outputs": [],
   "source": [
    "if no_f1:\n",
    "    model_metrics = None\n",
    "else:\n",
    "    model_metrics = [f1]"
   ]
  },
  {
   "cell_type": "code",
   "execution_count": 24,
   "metadata": {
    "_uuid": "6e18e5322c74ba3523994f54145096cc7612cf6e"
   },
   "outputs": [],
   "source": [
    "def make_model_capsule(embedding_matrix, embed_size=300):\n",
    "    K.clear_session()       \n",
    "    inp = Input(shape=(max_len,))\n",
    "    x = Embedding(len_voc, embed_size, weights=[embedding_matrix], trainable=False)(inp)\n",
    "    x = SpatialDropout1D(rate=0.1)(x)\n",
    "    x = Bidirectional(CuDNNGRU(100, return_sequences=True, \n",
    "                               kernel_initializer=initializers.glorot_normal(seed=12300),\n",
    "                               recurrent_initializer=initializers.orthogonal(gain=1.0,\n",
    "                                                                             seed=10000)))(x)\n",
    "\n",
    "    x = Capsule(num_capsule=10, dim_capsule=10, routings=4, share_weights=True)(x)\n",
    "    x = Flatten()(x)\n",
    "#     x = BatchNormalization()(x)\n",
    "    x = Dense(60, activation=\"elu\", kernel_initializer=initializers.glorot_normal(seed=12300))(x)\n",
    "    x = Dropout(0.025)(x)\n",
    "    x = BatchNormalization()(x)\n",
    "\n",
    "    x = Dense(1, activation=\"sigmoid\")(x)\n",
    "    model = Model(inputs=inp, outputs=x)\n",
    "    model.compile(loss='binary_crossentropy', optimizer='adam', metrics=model_metrics)\n",
    "    return model"
   ]
  },
  {
   "cell_type": "code",
   "execution_count": 25,
   "metadata": {
    "_uuid": "6e18e5322c74ba3523994f54145096cc7612cf6e"
   },
   "outputs": [],
   "source": [
    "def make_model_capsule_wtab(embedding_matrix, embed_size=300, tab_hidden=16):\n",
    "    K.clear_session()\n",
    "    \n",
    "    inp = Input(shape=(max_len + len_tab, ))\n",
    "    \n",
    "    x = Lambda(lambda zz: zz[:,:max_len], output_shape=(max_len,))(inp)\n",
    "    tab_x = Lambda(lambda zz: zz[:,max_len:], output_shape=(None,len_tab))(inp)\n",
    "    \n",
    "    tab_z = Dense(tab_hidden, activation=\"elu\")(tab_x)\n",
    "    tab_z = Dropout(0.1)(tab_z)\n",
    "    tab_z = Reshape((tab_hidden,))(tab_z)\n",
    "    \n",
    "    x = Embedding(len_voc, embed_size, weights=[embedding_matrix], trainable=False)(x)\n",
    "    x = SpatialDropout1D(rate=0.1)(x)\n",
    "    x = Bidirectional(CuDNNGRU(100, return_sequences=True, \n",
    "                               kernel_initializer=initializers.glorot_normal(seed=12300),\n",
    "                               recurrent_initializer=initializers.orthogonal(gain=1.0,\n",
    "                                                                             seed=10000)))(x)\n",
    "\n",
    "    x = Capsule(num_capsule=10, dim_capsule=10, routings=4, share_weights=True)(x)\n",
    "    x = Flatten()(x)\n",
    "#     x = BatchNormalization()(x)\n",
    "\n",
    "    conc = concatenate([x, tab_z])\n",
    "\n",
    "    x = Dense(60, activation=\"elu\",\n",
    "              kernel_initializer=initializers.glorot_normal(seed=12300))(conc)\n",
    "    x = Dropout(0.025)(x)\n",
    "    x = BatchNormalization()(x)\n",
    "\n",
    "    x = Dense(1, activation=\"sigmoid\")(x)\n",
    "    model = Model(inputs=inp, outputs=x)\n",
    "    model.compile(loss='binary_crossentropy', optimizer='adam', metrics=model_metrics)\n",
    "    return model"
   ]
  },
  {
   "cell_type": "code",
   "execution_count": 26,
   "metadata": {
    "_uuid": "6e18e5322c74ba3523994f54145096cc7612cf6e"
   },
   "outputs": [],
   "source": [
    "def model_gru_atten_3(embedding_matrix, embed_size=300):\n",
    "    inp = Input(shape=(max_len,))\n",
    "    x = Embedding(len_voc, embed_size, weights=[embedding_matrix], trainable=False)(inp)\n",
    "    x = SpatialDropout1D(0.125)(x)\n",
    "    x = Bidirectional(CuDNNGRU(140, return_sequences=True))(x)\n",
    "#     x = Bidirectional(CuDNNGRU(128, return_sequences=True))(x)\n",
    "#     x = Bidirectional(CuDNNGRU(100, return_sequences=True))(x)\n",
    "    x = Bidirectional(CuDNNGRU(100, return_sequences=True))(x)\n",
    "    x = Bidirectional(CuDNNGRU(64, return_sequences=True))(x)\n",
    "#     x = Bidirectional(CuDNNGRU(50, return_sequences=True))(x)\n",
    "    x = Attention(max_len)(x)\n",
    "    x = Dense(1, activation=\"sigmoid\")(x)\n",
    "    model = Model(inputs=inp, outputs=x)\n",
    "    \n",
    "    model.compile(loss='binary_crossentropy', optimizer='adam', metrics=model_metrics)\n",
    "    \n",
    "    return model"
   ]
  },
  {
   "cell_type": "code",
   "execution_count": 27,
   "metadata": {
    "_uuid": "6e18e5322c74ba3523994f54145096cc7612cf6e"
   },
   "outputs": [],
   "source": [
    "def model_gru_atten_3_wtab(embedding_matrix, embed_size=300, tab_hidden=16):\n",
    "    K.clear_session()\n",
    "    inp = Input(shape=(max_len + len_tab, ))\n",
    "    \n",
    "    x = Lambda(lambda zz: zz[:,:max_len], output_shape=(max_len,))(inp)\n",
    "    tab_x = Lambda(lambda zz: zz[:,max_len:], output_shape=(None,len_tab))(inp)\n",
    "    \n",
    "    x = Embedding(len_voc, embed_size, weights=[embedding_matrix], trainable=False)(x)\n",
    "    x = SpatialDropout1D(0.125)(x)\n",
    "    x = Bidirectional(CuDNNGRU(140, return_sequences=True))(x)\n",
    "    x = Bidirectional(CuDNNGRU(100, return_sequences=True))(x)\n",
    "    x = Bidirectional(CuDNNGRU(64, return_sequences=True))(x)\n",
    "\n",
    "    x = Attention(max_len)(x)\n",
    "    \n",
    "    tab_z = Dense(tab_hidden, activation=\"elu\")(tab_x)\n",
    "    tab_z = Dropout(0.1)(tab_z)\n",
    "    tab_z = Reshape((tab_hidden,))(tab_z)\n",
    "    \n",
    "    conc = concatenate([x, tab_z])\n",
    "#     conc = BatchNormalization()(conc)\n",
    "#     conc = Dense(10, activation=\"elu\")(x)\n",
    "    conc = Dense(11, activation=\"elu\")(conc)\n",
    "#     conc = Dropout(0.15)(conc)\n",
    "#     conc = Dense(4, activation=\"elu\")(conc)\n",
    "    outp = Dense(1, activation=\"sigmoid\")(conc)    \n",
    "    \n",
    "\n",
    "    model = Model(inputs=inp, outputs=outp)\n",
    "    \n",
    "    model.compile(loss='binary_crossentropy', optimizer='adam', metrics=model_metrics)\n",
    "    \n",
    "    return model"
   ]
  },
  {
   "cell_type": "code",
   "execution_count": 28,
   "metadata": {
    "_uuid": "6e18e5322c74ba3523994f54145096cc7612cf6e"
   },
   "outputs": [],
   "source": [
    "def model_lstm_du(embedding_matrix, embed_size=300):\n",
    "    inp = Input(shape=(max_len,))\n",
    "    x = Embedding(len_voc, embed_size, weights=[embedding_matrix])(inp)\n",
    "    x = Bidirectional(CuDNNGRU(64, return_sequences=True))(x)\n",
    "    avg_pool = GlobalAveragePooling1D()(x)\n",
    "    max_pool = GlobalMaxPooling1D()(x)\n",
    "    conc = concatenate([avg_pool, max_pool])\n",
    "    conc = Dense(40, activation=\"elu\")(conc)\n",
    "    conc = Dropout(0.1)(conc)\n",
    "    outp = Dense(1, activation=\"sigmoid\")(conc)\n",
    "    \n",
    "    model = Model(inputs=inp, outputs=outp)\n",
    "    model.compile(loss='binary_crossentropy', optimizer='adam', metrics=model_metrics)\n",
    "    return model"
   ]
  },
  {
   "cell_type": "code",
   "execution_count": 29,
   "metadata": {
    "_uuid": "6e18e5322c74ba3523994f54145096cc7612cf6e"
   },
   "outputs": [],
   "source": [
    "def make_model_lstm_attn_2(embedding_matrix, embed_size=300):\n",
    "    \n",
    "    inp = Input(shape=(max_len,))\n",
    "    x = Embedding(len_voc, embed_size, weights=[embedding_matrix], trainable=False)(inp)\n",
    "    x = SpatialDropout1D(0.12)(x)\n",
    "    x = Bidirectional(CuDNNLSTM(85, return_sequences=True))(x)\n",
    "#     x = SpatialDropout1D(0.14)(x)\n",
    "#     x = Bidirectional(CuDNNLSTM(100, return_sequences=True))(x)\n",
    "    y = Bidirectional(CuDNNGRU(70, return_sequences=True))(x)\n",
    "    \n",
    "    atten_1 = Attention(max_len)(x) # skip connect\n",
    "    atten_2 = Attention(max_len)(y)\n",
    "    avg_pool = GlobalAveragePooling1D()(y)\n",
    "    max_pool = GlobalMaxPooling1D()(y)\n",
    "    \n",
    "    conc = concatenate([atten_1, atten_2, avg_pool, max_pool])\n",
    "    conc = Dense(20, activation=\"elu\")(conc)\n",
    "    conc = Dropout(0.11)(conc)\n",
    "#     conc = Dense(14, activation=\"elu\")(conc)\n",
    "#     conc = Dropout(0.15)(conc)\n",
    "    outp = Dense(1, activation=\"sigmoid\")(conc)    \n",
    "\n",
    "    model = Model(inputs=inp, outputs=outp)\n",
    "    model.compile(loss='binary_crossentropy', optimizer='adam', metrics=model_metrics)\n",
    "    \n",
    "    return model"
   ]
  },
  {
   "cell_type": "code",
   "execution_count": 30,
   "metadata": {
    "_uuid": "6e18e5322c74ba3523994f54145096cc7612cf6e"
   },
   "outputs": [],
   "source": [
    "def make_model_lstm_attn_2_wtab(embedding_matrix, embed_size=300, tab_hidden=16):\n",
    "    \n",
    "    inp = Input(shape=(max_len + len_tab, ))\n",
    "    \n",
    "    x = Lambda(lambda zz: zz[:,:max_len], output_shape=(max_len,))(inp)\n",
    "    tab_x = Lambda(lambda zz: zz[:,max_len:], output_shape=(None,len_tab))(inp)\n",
    "    \n",
    "    x = Embedding(len_voc, embed_size, weights=[embedding_matrix], trainable=False)(x)\n",
    "    x = SpatialDropout1D(0.12)(x)\n",
    "    x = Bidirectional(CuDNNLSTM(85, return_sequences=True))(x)\n",
    "#     x = SpatialDropout1D(0.14)(x)\n",
    "#     x = Bidirectional(CuDNNLSTM(100, return_sequences=True))(x)\n",
    "    y = Bidirectional(CuDNNGRU(70, return_sequences=True))(x)\n",
    "    \n",
    "    atten_1 = Attention(max_len)(x) # skip connect\n",
    "    atten_2 = Attention(max_len)(y)\n",
    "    avg_pool = GlobalAveragePooling1D()(y)\n",
    "    max_pool = GlobalMaxPooling1D()(y)\n",
    "    \n",
    "    tab_z = Dense(tab_hidden, activation=\"elu\")(tab_x)\n",
    "    tab_z = Dropout(0.1)(tab_z)\n",
    "    \n",
    "    tab_z = Reshape((tab_hidden,))(tab_z)\n",
    "    \n",
    "    conc = concatenate([atten_1, atten_2, avg_pool, max_pool, tab_z])\n",
    "#     conc = concatenate([atten_1, atten_2, avg_pool, max_pool, tab_z])\n",
    "#     conc = BatchNormalization()(conc)\n",
    "    conc = Dense(22, activation=\"elu\")(conc)\n",
    "#     conc = Dropout(0.125)(conc)\n",
    "    conc = Dropout(0.11)(conc)\n",
    "#     conc = Dense(4, activation=\"elu\")(conc)\n",
    "    outp = Dense(1, activation=\"sigmoid\")(conc)    \n",
    "\n",
    "    model = Model(inputs=inp, outputs=outp)\n",
    "    model.compile(loss='binary_crossentropy', optimizer='adam', metrics=model_metrics)\n",
    "    \n",
    "    return model"
   ]
  },
  {
   "cell_type": "code",
   "execution_count": 31,
   "metadata": {
    "_uuid": "6e18e5322c74ba3523994f54145096cc7612cf6e"
   },
   "outputs": [],
   "source": [
    "filter_sizes = [1,2,4]\n",
    "num_filters = 40\n",
    "def make_model_cnn_3_wtab(embedding_matrix, embed_size=300, tab_hidden=16):    \n",
    "    inp = Input(shape=(max_len + len_tab, ))\n",
    "    \n",
    "    x = Lambda(lambda zz: zz[:,:max_len], output_shape=(None,max_len))(inp)\n",
    "    tab_x = Lambda(lambda zz: zz[:,max_len:], output_shape=(None,len_tab))(inp)\n",
    "    \n",
    "    x = Embedding(len_voc, embed_size, weights=[embedding_matrix], trainable=False)(inp)\n",
    "    x = SpatialDropout1D(0.125)(x)\n",
    "    #x = Reshape((maxlen, embed_size, 1))(x)\n",
    "    \n",
    "    conv_0 = Conv1D(num_filters, kernel_size=(filter_sizes[0]),\n",
    "                                 kernel_initializer='he_normal', activation='elu')(x)\n",
    "    conv_1 = Conv1D(num_filters, kernel_size=(filter_sizes[1]),\n",
    "                                 kernel_initializer='he_normal', activation='elu')(x)\n",
    "    conv_2 = Conv1D(num_filters, kernel_size=(filter_sizes[2]), \n",
    "                                 kernel_initializer='he_normal', activation='elu')(x)\n",
    "    conv_3 = Conv1D(num_filters, kernel_size=(filter_sizes[2]),\n",
    "                                 kernel_initializer='he_normal', activation='elu')(conv_2)\n",
    "    conv_0_1 = Conv1D(num_filters, kernel_size=(filter_sizes[1]),\n",
    "                      kernel_initializer='he_normal', activation='elu')(conv_0)\n",
    "    \n",
    "    maxpool_0 = MaxPool1D(pool_size=(max_len - filter_sizes[0] + 1))(conv_0)\n",
    "    maxpool_1 = MaxPool1D(pool_size=(max_len - filter_sizes[1] + 1))(conv_1)\n",
    "    maxpool_3 = MaxPool1D(pool_size=(max_len - filter_sizes[2] - filter_sizes[2] + 1))(conv_3)\n",
    "    avgpool_0_1 = MaxPool1D(pool_size=(max_len - filter_sizes[1] - filter_sizes[0] + 1))(conv_0_1)\n",
    "        \n",
    "    tab_z = Dense(tab_hidden, activation=\"elu\")(tab_x)\n",
    "    tab_z = Dropout(0.1)(tab_z)\n",
    "    \n",
    "    tab_z = Reshape((tab_hidden,))(tab_z)\n",
    "    z = Concatenate(axis=1)([maxpool_0, maxpool_1, maxpool_3, avgpool_0_1])   \n",
    "\n",
    "    z = Flatten()(z)\n",
    "    z = Concatenate(axis=1)([z, tab_z])\n",
    "    z = BatchNormalization()(z)\n",
    "    z = Dense(16, activation=\"elu\")(z)\n",
    "    z = Dropout(0.1)(z)\n",
    "    outp = Dense(1, activation=\"sigmoid\")(z)\n",
    "    \n",
    "    model = Model(inputs=inp, outputs=outp)\n",
    "    model.compile(loss='binary_crossentropy',\n",
    "                  optimizer='adam',\n",
    "                  metrics=model_metrics)\n",
    "\n",
    "    return model"
   ]
  },
  {
   "cell_type": "code",
   "execution_count": 32,
   "metadata": {
    "_uuid": "6e18e5322c74ba3523994f54145096cc7612cf6e"
   },
   "outputs": [],
   "source": [
    "filter_sizes = [1,2,4]\n",
    "num_filters = 40\n",
    "def make_model_cnn_3(embedding_matrix, embed_size=300):    \n",
    "    inp = Input(shape=(max_len, ))\n",
    "    x = Embedding(len_voc, embed_size, weights=[embedding_matrix], trainable=False)(inp)\n",
    "    x = SpatialDropout1D(0.125)(x)\n",
    "    #x = Reshape((maxlen, embed_size, 1))(x)\n",
    "    \n",
    "    conv_0 = Conv1D(num_filters, kernel_size=(filter_sizes[0]),\n",
    "                                 kernel_initializer='he_normal', activation='elu')(x)\n",
    "    conv_1 = Conv1D(num_filters, kernel_size=(filter_sizes[1]),\n",
    "                                 kernel_initializer='he_normal', activation='elu')(x)\n",
    "    conv_2 = Conv1D(num_filters, kernel_size=(filter_sizes[2]), \n",
    "                                 kernel_initializer='he_normal', activation='elu')(x)\n",
    "    conv_3 = Conv1D(num_filters, kernel_size=(filter_sizes[2]),\n",
    "                                 kernel_initializer='he_normal', activation='elu')(conv_2)\n",
    "    conv_0_1 = Conv1D(num_filters, kernel_size=(filter_sizes[1]),\n",
    "                      kernel_initializer='he_normal', activation='elu')(conv_0)\n",
    "    \n",
    "    maxpool_0 = MaxPool1D(pool_size=(max_len - filter_sizes[0] + 1))(conv_0)\n",
    "    maxpool_1 = MaxPool1D(pool_size=(max_len - filter_sizes[1] + 1))(conv_1)\n",
    "#     maxpool_2 = AvgPool1D(pool_size=(max_len - filter_sizes[2] + 1))(conv_2)\n",
    "    maxpool_3 = MaxPool1D(pool_size=(max_len - filter_sizes[2] - filter_sizes[2] + 1))(conv_3)\n",
    "    avgpool_0_1 = MaxPool1D(pool_size=(max_len - filter_sizes[1] - filter_sizes[0] + 1))(conv_0_1)\n",
    "        \n",
    "    z = Concatenate(axis=1)([maxpool_0, maxpool_1, maxpool_3, avgpool_0_1])   \n",
    "#     z = Concatenate(axis=1)([maxpool_0, maxpool_1, maxpool_2, maxpool_3, avgpool_0_1])   \n",
    "    z = Flatten()(z)\n",
    "    z = BatchNormalization()(z)\n",
    "    z = Dense(16, activation=\"elu\")(z)\n",
    "    z = Dropout(0.1)(z)\n",
    "    outp = Dense(1, activation=\"sigmoid\")(z)\n",
    "    \n",
    "    model = Model(inputs=inp, outputs=outp)\n",
    "    model.compile(loss='binary_crossentropy',\n",
    "                  optimizer='adam',\n",
    "                  metrics=model_metrics)\n",
    "\n",
    "    return model"
   ]
  },
  {
   "cell_type": "code",
   "execution_count": 33,
   "metadata": {
    "_uuid": "6e18e5322c74ba3523994f54145096cc7612cf6e"
   },
   "outputs": [],
   "source": [
    "# X_train, X_val, y_train, y_val = train_test_split(X_train_full,\n",
    "#                                                   y, test_size=0.1, random_state=420)\n",
    "\n",
    "if no_val_split:\n",
    "    X_train = X_train_full\n",
    "    y_train = y\n",
    "    \n",
    "else:\n",
    "    X_train, X_val, y_train, y_val = train_test_split(X_train_full,\n",
    "                                                      y, test_size=0.1, random_state=420)\n",
    "#     X_train, X_val, y_train, y_val = train_test_split(X_train_full,\n",
    "#                                                       y, test_size=0.1, random_state=420,\n",
    "#                                                       stratify=y)"
   ]
  },
  {
   "cell_type": "code",
   "execution_count": 34,
   "metadata": {
    "_uuid": "6e18e5322c74ba3523994f54145096cc7612cf6e"
   },
   "outputs": [],
   "source": [
    "del X_train_full"
   ]
  },
  {
   "cell_type": "code",
   "execution_count": 35,
   "metadata": {
    "_uuid": "b913e99b517dc7992bb24ca2ff519f209a668830"
   },
   "outputs": [],
   "source": [
    "def train_pred(model, train_X, train_y, val_X, val_y, epochs=2, callback=None, class_weight=1.5):\n",
    "    for e in range(epochs):\n",
    "        model.fit(train_X, train_y, batch_size=256, epochs=1,\n",
    "                  validation_data=(val_X, val_y), callbacks=callback,\n",
    "                  class_weight=class_weight, verbose=0)\n",
    "        pred_val_y = model.predict([val_X], batch_size=1024, verbose=0)\n",
    "\n",
    "        best_thresh = 0.5\n",
    "        best_score = 0.0\n",
    "        for thresh in np.arange(0.25, 0.501, 0.01):\n",
    "            thresh = np.round(thresh, 2)\n",
    "            score = metrics.f1_score(val_y, (pred_val_y > thresh).astype(int))\n",
    "            if score > best_score:\n",
    "                best_thresh = thresh\n",
    "                best_score = score\n",
    "        print(\"Epoch: \", e, \"-    Val F1 Score: {:.4f}\".format(best_score))\n",
    "\n",
    "#     pred_test_y = model.predict([test_X], batch_size=1024, verbose=0)\n",
    "    print('='*100)\n",
    "    return pred_val_y, best_score"
   ]
  },
  {
   "cell_type": "code",
   "execution_count": 36,
   "metadata": {
    "_uuid": "b913e99b517dc7992bb24ca2ff519f209a668830"
   },
   "outputs": [
    {
     "name": "stdout",
     "output_type": "stream",
     "text": [
      "Training model 0\n",
      "Training model 1\n",
      "Training model 2\n",
      "Training model 3\n"
     ]
    }
   ],
   "source": [
    "# models = [make_model_cnn_3, make_model_lstm_attn_2, model_gru_atten_3, make_model_capsule]\n",
    "# # embeds = [0, 0, 1, 1]\n",
    "# embeds = [0, 0, 0, 0]\n",
    "# epochs = [4, 5, 4, 3]\n",
    "# cw = [1.5, 1.5, 1.5, 1.5]\n",
    "\n",
    "# models = [model_gru_atten_3_wtab]\n",
    "# embeds = [0]\n",
    "# epochs = [4]\n",
    "# cw = [1.5]\n",
    "\n",
    "models = [make_model_cnn_3_wtab, make_model_lstm_attn_2_wtab,\n",
    "          model_gru_atten_3_wtab, make_model_capsule_wtab]\n",
    "# embeds = [0, 0, 1, 1]\n",
    "embeds = [0, 0, 0, 0]\n",
    "epochs = [4, 4, 4, 3]\n",
    "# epochs = [1, 1, 1, 1]\n",
    "cw = [1.5, 1.5, 1.5, 1.5]\n",
    "\n",
    "# epochs = [5]\n",
    "batch_size = 256\n",
    "\n",
    "pred_val = []\n",
    "pred_test = []\n",
    "\n",
    "checkpoints = ModelCheckpoint('weights_{}.hdf5'.format(i), monitor=\"val_f1\", mode=\"max\",\n",
    "                              verbose=True, save_best_only=True)\n",
    "clr = CyclicLR(base_lr=0.00115, max_lr=0.002,\n",
    "               step_size=300., mode='exp_range',\n",
    "               gamma=0.99994)\n",
    "if no_val_split:\n",
    "    validation_data = None\n",
    "else:\n",
    "    validation_data = [X_val, y_val]\n",
    "\n",
    "if no_f1:\n",
    "    callbacks = [clr]\n",
    "else:\n",
    "    callbacks = [checkpoints, clr]\n",
    "        \n",
    "for i in range(len(models)):\n",
    "    print('Training model {}'.format(i))\n",
    "    class_weight = {0: 1.,\n",
    "                    1: cw[i]}\n",
    "        \n",
    "    model = models[i](embeddings_list[embeds[i]])\n",
    "    \n",
    "    if f1_per_epoch:\n",
    "        train_pred(model, X_train, y_train, X_val, y_val, epochs=6, callback=[clr,],\n",
    "                   class_weight=class_weight)\n",
    "    else:\n",
    "        history = model.fit(X_train, y_train, batch_size=batch_size, epochs=epochs[i], \n",
    "                            validation_data=validation_data, callbacks=callbacks,\n",
    "                            class_weight=class_weight, verbose=0)\n",
    "    \n",
    "    if not no_f1:\n",
    "        model.load_weights('weights_{}.hdf5'.format(i))\n",
    "\n",
    "    if not no_val_split:\n",
    "        pred_val.append(model.predict(X_val, batch_size=batch_size, verbose=0))\n",
    "    pred_test.append(model.predict(X_test, batch_size=batch_size, verbose=0))\n",
    "    \n",
    "    if not no_val_split:\n",
    "        print(X_val.shape)"
   ]
  },
  {
   "cell_type": "code",
   "execution_count": 37,
   "metadata": {
    "_uuid": "b913e99b517dc7992bb24ca2ff519f209a668830"
   },
   "outputs": [
    {
     "name": "stdout",
     "output_type": "stream",
     "text": [
      "Time to train, predict: 6734.524324940998\n"
     ]
    }
   ],
   "source": [
    "print('Time to train, predict:', time.perf_counter() - tc_preprocess)\n",
    "tc2 = time.perf_counter()"
   ]
  },
  {
   "cell_type": "code",
   "execution_count": 38,
   "metadata": {
    "_uuid": "b913e99b517dc7992bb24ca2ff519f209a668830"
   },
   "outputs": [],
   "source": [
    "def tweak_threshold(pred, truth):\n",
    "    thresholds = []\n",
    "    scores = []\n",
    "    for thresh in np.arange(0.25, 0.501, 0.01):\n",
    "        thresh = np.round(thresh, 2)\n",
    "        thresholds.append(thresh)\n",
    "        score = metrics.f1_score(truth, (pred>thresh).astype(int))\n",
    "        scores.append(score)\n",
    "    return np.max(scores), thresholds[np.argmax(scores)]\n",
    "\n",
    "if len(models) == 1:\n",
    "    score_val, threshold_val = tweak_threshold(pred_val[0], y_val)\n",
    "    print(f\"F1={round(score_val, 4)} for thresh {threshold_val}\")"
   ]
  },
  {
   "cell_type": "code",
   "execution_count": 39,
   "metadata": {
    "_uuid": "b913e99b517dc7992bb24ca2ff519f209a668830"
   },
   "outputs": [],
   "source": [
    "from sklearn.linear_model import LinearRegression\n",
    "\n",
    "if not no_val_split:\n",
    "    X_test_stack = np.hstack(pred_test)\n",
    "    X_val_stack = np.hstack(pred_val)\n",
    "    reg = LinearRegression().fit(X_val_stack, y_val)\n",
    "    print(reg.score(X_val_stack, y_val), reg.coef_)\n",
    "\n",
    "    pred_val_mix = reg.coef_[0] * pred_val[0]\n",
    "\n",
    "    for i in range(1,len(pred_val)):\n",
    "        pred_val_mix += reg.coef_[i] * pred_val[i]\n",
    "\n",
    "    curr_max = 0.0\n",
    "\n",
    "    print(\"Finished training, LR coefficients:\", reg.coef_, reg.intercept_)\n",
    "    \n",
    "    rcoef = reg.coef_\n",
    "    rinter = reg.intercept_\n",
    "\n",
    "    score_val, threshold_val = tweak_threshold(pred_val_mix, y_val)\n",
    "    if score_val > curr_max:\n",
    "        curr_max = score_val\n",
    "        best_threshold = threshold_val\n",
    "        print(f\"F1={round(score_val, 4)} for thresh {threshold_val}\")\n",
    "else:\n",
    "#     rcoef = [0.16505831, 0.2449182, 0.35552612, 0.18214285]\n",
    "#     rinter = -0.0028561205\n",
    "#     best_threshold = 0.44\n",
    "\n",
    "    rcoef = [0.11670181, 0.30586663, 0.29109076, 0.18446921]\n",
    "    rinter = -0.0034813136\n",
    "    best_threshold = 0.41\n",
    "    \n",
    "#     rcoef = [0.1039269, 0.33623272, 0.27149993, 0.21583693] \n",
    "#     rinter = -0.0017842948\n",
    "    \n",
    "#     [0.1039269  0.33623272 0.27149993 0.21583693] -0.0017842948\n",
    "#     rcoef = [0.08527213, 0.37222776, 0.19691171, 0.267353]\n",
    "#     rinter = -0.006001383"
   ]
  },
  {
   "cell_type": "code",
   "execution_count": 40,
   "metadata": {
    "_uuid": "145496f8a59eec63294496335953d605367a54c0"
   },
   "outputs": [
    {
     "name": "stdout",
     "output_type": "stream",
     "text": [
      "Time to train, predict, fit LR and threshold: 0.06642998899769736\n"
     ]
    }
   ],
   "source": [
    "print('Time to train, predict, fit LR and threshold:', time.perf_counter() - tc2)"
   ]
  },
  {
   "cell_type": "code",
   "execution_count": 41,
   "metadata": {
    "_uuid": "145496f8a59eec63294496335953d605367a54c0"
   },
   "outputs": [
    {
     "name": "stdout",
     "output_type": "stream",
     "text": [
      "3569\n"
     ]
    }
   ],
   "source": [
    "pred_test_mix = rinter + rcoef[0] * pred_test[0]\n",
    "\n",
    "for i in range(1,len(pred_test)):\n",
    "    pred_test_mix += rcoef[i] * pred_test[i]\n",
    "    \n",
    "# print(pred_test_mix[:-10])\n",
    "pred_test_mix  = (pred_test_mix > best_threshold).astype(np.int)\n",
    "# print(pred_test_mix[:-10])\n",
    "# print(pred_test_mix.shape)\n",
    "print((pred_test_mix > 0).sum())\n",
    "# df_test = pd.read_csv(\"../input/test.csv\")"
   ]
  },
  {
   "cell_type": "code",
   "execution_count": 42,
   "metadata": {
    "_uuid": "bd60646a83efac635c7e8c0fcc35e34b6f54911f"
   },
   "outputs": [],
   "source": [
    "out_df = pd.DataFrame({\"qid\": test_qid})\n",
    "out_df['prediction'] = pred_test_mix\n",
    "out_df.to_csv(\"submission.csv\", index=False)"
   ]
  },
  {
   "cell_type": "code",
   "execution_count": 43,
   "metadata": {
    "_uuid": "bd60646a83efac635c7e8c0fcc35e34b6f54911f"
   },
   "outputs": [
    {
     "name": "stdout",
     "output_type": "stream",
     "text": [
      "Time total: 7241.136747415003\n"
     ]
    }
   ],
   "source": [
    "print('Time total:', time.perf_counter() - tc1)"
   ]
  },
  {
   "cell_type": "code",
   "execution_count": 44,
   "metadata": {
    "_uuid": "27b7c261cbdaa58acd2dabc219a46314f020b4b2"
   },
   "outputs": [],
   "source": []
  }
 ],
 "metadata": {
  "kernelspec": {
   "display_name": "Python 3",
   "language": "python",
   "name": "python3"
  },
  "language_info": {
   "codemirror_mode": {
    "name": "ipython",
    "version": 3
   },
   "file_extension": ".py",
   "mimetype": "text/x-python",
   "name": "python",
   "nbconvert_exporter": "python",
   "pygments_lexer": "ipython3",
   "version": "3.6.6"
  }
 },
 "nbformat": 4,
 "nbformat_minor": 1
}
